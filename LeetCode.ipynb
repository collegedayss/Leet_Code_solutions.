{
  "nbformat": 4,
  "nbformat_minor": 0,
  "metadata": {
    "colab": {
      "name": "LeetCode.ipynb",
      "provenance": [],
      "collapsed_sections": [],
      "include_colab_link": true
    },
    "kernelspec": {
      "name": "python3",
      "display_name": "Python 3"
    }
  },
  "cells": [
    {
      "cell_type": "markdown",
      "metadata": {
        "id": "view-in-github",
        "colab_type": "text"
      },
      "source": [
        "<a href=\"https://colab.research.google.com/github/moiztechsavvy/Leet_Code_solutions./blob/master/LeetCode.ipynb\" target=\"_parent\"><img src=\"https://colab.research.google.com/assets/colab-badge.svg\" alt=\"Open In Colab\"/></a>"
      ]
    },
    {
      "cell_type": "markdown",
      "metadata": {
        "id": "SjoontrtQGtX",
        "colab_type": "text"
      },
      "source": [
        "# Leet Code Problem Solving"
      ]
    },
    {
      "cell_type": "markdown",
      "metadata": {
        "id": "GRKc_PUdMGgR",
        "colab_type": "text"
      },
      "source": [
        "Coding Problem: 804\n",
        "\n",
        "https://leetcode.com/problems/unique-morse-code-words/\n",
        "\n"
      ]
    },
    {
      "cell_type": "code",
      "metadata": {
        "id": "iipl-FzFL-sC",
        "colab_type": "code",
        "colab": {}
      },
      "source": [
        "class Solution:\n",
        "    def uniqueMorseRepresentations(self, words: List[str]) -> list:\n",
        "        morse = [\".-\",\"-...\",\"-.-.\",\"-..\",\".\",\"..-.\",\"--.\",\"....\",\"..\",\".---\",\"-.-\",\".-..\",\"--\",\"-.\",\"---\",\".--.\",\"--.-\",\".-.\",\"...\",\"-\",\"..-\",\"...-\",\".--\",\"-..-\",\"-.--\",\"--..\"]\n",
        "        word = [*'abcdefghijklmnopqrstuvwxyz']\n",
        "        bag_of_words = []\n",
        "        \n",
        "        dic = dict(zip(word, morse))\n",
        "        for w in words:\n",
        "            current_word = ''\n",
        "            for i in w:\n",
        "                current_word = current_word + dic[i]\n",
        "            bag_of_words.append(current_word)\n",
        "        unique_list = set(bag_of_words)\n",
        "        return len(list(unique_list))"
      ],
      "execution_count": 0,
      "outputs": []
    },
    {
      "cell_type": "markdown",
      "metadata": {
        "id": "nV3M3RsCPl2B",
        "colab_type": "text"
      },
      "source": [
        "Coding Problem: 832. Flipping an Image\n",
        "\n",
        "https://leetcode.com/problems/flipping-an-image"
      ]
    },
    {
      "cell_type": "code",
      "metadata": {
        "id": "Hd1NltO9MC50",
        "colab_type": "code",
        "colab": {}
      },
      "source": [
        "class Solution:\n",
        "    def flipAndInvertImage(self, A: List[List[int]]) -> List[List[int]]:\n",
        "        flipped_image = []\n",
        "        for index in A:\n",
        "            flipped_image.append(index[::-1])\n",
        "        for val in flipped_image:\n",
        "            for i in range(0,len(val)):\n",
        "                if val[i] == 0:\n",
        "                    val[i] = 1\n",
        "                else:\n",
        "                    val[i] = 0\n",
        "        return flipped_image"
      ],
      "execution_count": 0,
      "outputs": []
    },
    {
      "cell_type": "markdown",
      "metadata": {
        "id": "dZyTPsOlQhSq",
        "colab_type": "text"
      },
      "source": [
        "Coding Problem : 905. Sort Array By Parity (Not Efficient)\n",
        "\n",
        "https://leetcode.com/problems/sort-array-by-parity"
      ]
    },
    {
      "cell_type": "code",
      "metadata": {
        "id": "OqYaRXL8Qhd9",
        "colab_type": "code",
        "colab": {}
      },
      "source": [
        "class Solution:\n",
        "    def sortArrayByParity(self, A: List[int]) -> List[int]:\n",
        "        new_list = []\n",
        "        odd_list = []\n",
        "        for num in A:\n",
        "            if num%2 == 0:\n",
        "                new_list.append(num)\n",
        "            elif num%2 != 0:\n",
        "                odd_list.append(num)\n",
        "            final = new_list + odd_list\n",
        "        return final"
      ],
      "execution_count": 0,
      "outputs": []
    },
    {
      "cell_type": "markdown",
      "metadata": {
        "id": "MCOnozZbT3PK",
        "colab_type": "text"
      },
      "source": [
        "Coding Problem: 961. N-Repeated Element in Size 2N Array (Not Efficeint)\n",
        "\n",
        "https://leetcode.com/problems/n-repeated-element-in-size-2n-array/\n"
      ]
    },
    {
      "cell_type": "code",
      "metadata": {
        "id": "0PBHjaYMTw9L",
        "colab_type": "code",
        "colab": {}
      },
      "source": [
        "class Solution:\n",
        "    def repeatedNTimes(self, A: List[int]) -> int:\n",
        "        for i in range (0, len(A)): \n",
        "            for j in range (i + 1, len(A)): \n",
        "                if A[i] == A[j]: \n",
        "                    return A[i]"
      ],
      "execution_count": 0,
      "outputs": []
    },
    {
      "cell_type": "markdown",
      "metadata": {
        "id": "tnwEhiLO7jkl",
        "colab_type": "text"
      },
      "source": [
        "Coding Problem 657: Robot Return to Origin\n",
        "https://leetcode.com/problems/robot-return-to-origin/"
      ]
    },
    {
      "cell_type": "code",
      "metadata": {
        "id": "L4v7znJ9VbkW",
        "colab_type": "code",
        "colab": {}
      },
      "source": [
        "class Solution:\n",
        "    def judgeCircle(self, moves: str) -> bool:\n",
        "        dictionary_moves = {'U': 1, 'D':-1,'L':2, 'R':-2}\n",
        "        a = list(moves)\n",
        "        count = 0\n",
        "        for i in a:\n",
        "          count += dictionary_moves[i]\n",
        "        if count == 0:\n",
        "          return True\n",
        "        else:\n",
        "          return False"
      ],
      "execution_count": 0,
      "outputs": []
    },
    {
      "cell_type": "markdown",
      "metadata": {
        "id": "CpcRedod7nSA",
        "colab_type": "text"
      },
      "source": [
        "Leet Code Problem: 977. Squares of a Sorted Array\n",
        "https://leetcode.com/problems/squares-of-a-sorted-array/"
      ]
    },
    {
      "cell_type": "code",
      "metadata": {
        "id": "vAI72ypgx_-s",
        "colab_type": "code",
        "colab": {}
      },
      "source": [
        "class Solution:\n",
        "    def sortedSquares(self, A: List[int]) -> List[int]:\n",
        "        New_List = [i*i for i in A]\n",
        "        sorted_list = sorted(New_List)\n",
        "        return sorted_list\n",
        "        "
      ],
      "execution_count": 0,
      "outputs": []
    },
    {
      "cell_type": "markdown",
      "metadata": {
        "id": "E0pmxlvhbnKc",
        "colab_type": "text"
      },
      "source": [
        ""
      ]
    },
    {
      "cell_type": "code",
      "metadata": {
        "id": "Q9Q7pYm2bnST",
        "colab_type": "code",
        "outputId": "98bf02d9-6262-46e6-8c7d-7b23f0e83156",
        "colab": {
          "base_uri": "https://localhost:8080/",
          "height": 34
        }
      },
      "source": [
        "[0]*5"
      ],
      "execution_count": 0,
      "outputs": [
        {
          "output_type": "execute_result",
          "data": {
            "text/plain": [
              "[0, 0, 0, 0, 0]"
            ]
          },
          "metadata": {
            "tags": []
          },
          "execution_count": 1
        }
      ]
    },
    {
      "cell_type": "code",
      "metadata": {
        "id": "HYB82K_H20WO",
        "colab_type": "code",
        "colab": {}
      },
      "source": [
        ""
      ],
      "execution_count": 0,
      "outputs": []
    }
  ]
}